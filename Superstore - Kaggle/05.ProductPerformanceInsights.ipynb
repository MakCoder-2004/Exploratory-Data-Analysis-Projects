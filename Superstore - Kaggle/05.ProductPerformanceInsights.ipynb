{
 "cells": [
  {
   "metadata": {},
   "cell_type": "markdown",
   "source": "# Libraries",
   "id": "1f154dc78690f053"
  },
  {
   "metadata": {
    "ExecuteTime": {
     "end_time": "2025-09-13T18:39:15.527082Z",
     "start_time": "2025-09-13T18:39:15.524407Z"
    }
   },
   "cell_type": "code",
   "source": [
    "import pandas as pd\n",
    "import numpy as np\n",
    "import matplotlib.pyplot as plt\n",
    "import seaborn as sns"
   ],
   "id": "1b3a48fe7fea4376",
   "outputs": [],
   "execution_count": 1
  },
  {
   "metadata": {},
   "cell_type": "markdown",
   "source": "# Loading Data",
   "id": "21c0680e86ae7e25"
  },
  {
   "metadata": {
    "ExecuteTime": {
     "end_time": "2025-09-13T18:39:26.460910Z",
     "start_time": "2025-09-13T18:39:26.402887Z"
    }
   },
   "cell_type": "code",
   "source": [
    "df = pd.read_csv(\"Superstore.csv\", encoding=\"ISO-8859-1\")\n",
    "df.head()"
   ],
   "id": "e642873fc15a8dd6",
   "outputs": [
    {
     "data": {
      "text/plain": [
       "   Row ID        Order ID  Order Date   Ship Date       Ship Mode Customer ID  \\\n",
       "0       1  CA-2016-152156   11/8/2016  11/11/2016    Second Class    CG-12520   \n",
       "1       2  CA-2016-152156   11/8/2016  11/11/2016    Second Class    CG-12520   \n",
       "2       3  CA-2016-138688   6/12/2016   6/16/2016    Second Class    DV-13045   \n",
       "3       4  US-2015-108966  10/11/2015  10/18/2015  Standard Class    SO-20335   \n",
       "4       5  US-2015-108966  10/11/2015  10/18/2015  Standard Class    SO-20335   \n",
       "\n",
       "     Customer Name    Segment        Country             City  ...  \\\n",
       "0      Claire Gute   Consumer  United States        Henderson  ...   \n",
       "1      Claire Gute   Consumer  United States        Henderson  ...   \n",
       "2  Darrin Van Huff  Corporate  United States      Los Angeles  ...   \n",
       "3   Sean O'Donnell   Consumer  United States  Fort Lauderdale  ...   \n",
       "4   Sean O'Donnell   Consumer  United States  Fort Lauderdale  ...   \n",
       "\n",
       "  Postal Code  Region       Product ID         Category Sub-Category  \\\n",
       "0       42420   South  FUR-BO-10001798        Furniture    Bookcases   \n",
       "1       42420   South  FUR-CH-10000454        Furniture       Chairs   \n",
       "2       90036    West  OFF-LA-10000240  Office Supplies       Labels   \n",
       "3       33311   South  FUR-TA-10000577        Furniture       Tables   \n",
       "4       33311   South  OFF-ST-10000760  Office Supplies      Storage   \n",
       "\n",
       "                                        Product Name     Sales  Quantity  \\\n",
       "0                  Bush Somerset Collection Bookcase  261.9600         2   \n",
       "1  Hon Deluxe Fabric Upholstered Stacking Chairs,...  731.9400         3   \n",
       "2  Self-Adhesive Address Labels for Typewriters b...   14.6200         2   \n",
       "3      Bretford CR4500 Series Slim Rectangular Table  957.5775         5   \n",
       "4                     Eldon Fold 'N Roll Cart System   22.3680         2   \n",
       "\n",
       "   Discount    Profit  \n",
       "0      0.00   41.9136  \n",
       "1      0.00  219.5820  \n",
       "2      0.00    6.8714  \n",
       "3      0.45 -383.0310  \n",
       "4      0.20    2.5164  \n",
       "\n",
       "[5 rows x 21 columns]"
      ],
      "text/html": [
       "<div>\n",
       "<style scoped>\n",
       "    .dataframe tbody tr th:only-of-type {\n",
       "        vertical-align: middle;\n",
       "    }\n",
       "\n",
       "    .dataframe tbody tr th {\n",
       "        vertical-align: top;\n",
       "    }\n",
       "\n",
       "    .dataframe thead th {\n",
       "        text-align: right;\n",
       "    }\n",
       "</style>\n",
       "<table border=\"1\" class=\"dataframe\">\n",
       "  <thead>\n",
       "    <tr style=\"text-align: right;\">\n",
       "      <th></th>\n",
       "      <th>Row ID</th>\n",
       "      <th>Order ID</th>\n",
       "      <th>Order Date</th>\n",
       "      <th>Ship Date</th>\n",
       "      <th>Ship Mode</th>\n",
       "      <th>Customer ID</th>\n",
       "      <th>Customer Name</th>\n",
       "      <th>Segment</th>\n",
       "      <th>Country</th>\n",
       "      <th>City</th>\n",
       "      <th>...</th>\n",
       "      <th>Postal Code</th>\n",
       "      <th>Region</th>\n",
       "      <th>Product ID</th>\n",
       "      <th>Category</th>\n",
       "      <th>Sub-Category</th>\n",
       "      <th>Product Name</th>\n",
       "      <th>Sales</th>\n",
       "      <th>Quantity</th>\n",
       "      <th>Discount</th>\n",
       "      <th>Profit</th>\n",
       "    </tr>\n",
       "  </thead>\n",
       "  <tbody>\n",
       "    <tr>\n",
       "      <th>0</th>\n",
       "      <td>1</td>\n",
       "      <td>CA-2016-152156</td>\n",
       "      <td>11/8/2016</td>\n",
       "      <td>11/11/2016</td>\n",
       "      <td>Second Class</td>\n",
       "      <td>CG-12520</td>\n",
       "      <td>Claire Gute</td>\n",
       "      <td>Consumer</td>\n",
       "      <td>United States</td>\n",
       "      <td>Henderson</td>\n",
       "      <td>...</td>\n",
       "      <td>42420</td>\n",
       "      <td>South</td>\n",
       "      <td>FUR-BO-10001798</td>\n",
       "      <td>Furniture</td>\n",
       "      <td>Bookcases</td>\n",
       "      <td>Bush Somerset Collection Bookcase</td>\n",
       "      <td>261.9600</td>\n",
       "      <td>2</td>\n",
       "      <td>0.00</td>\n",
       "      <td>41.9136</td>\n",
       "    </tr>\n",
       "    <tr>\n",
       "      <th>1</th>\n",
       "      <td>2</td>\n",
       "      <td>CA-2016-152156</td>\n",
       "      <td>11/8/2016</td>\n",
       "      <td>11/11/2016</td>\n",
       "      <td>Second Class</td>\n",
       "      <td>CG-12520</td>\n",
       "      <td>Claire Gute</td>\n",
       "      <td>Consumer</td>\n",
       "      <td>United States</td>\n",
       "      <td>Henderson</td>\n",
       "      <td>...</td>\n",
       "      <td>42420</td>\n",
       "      <td>South</td>\n",
       "      <td>FUR-CH-10000454</td>\n",
       "      <td>Furniture</td>\n",
       "      <td>Chairs</td>\n",
       "      <td>Hon Deluxe Fabric Upholstered Stacking Chairs,...</td>\n",
       "      <td>731.9400</td>\n",
       "      <td>3</td>\n",
       "      <td>0.00</td>\n",
       "      <td>219.5820</td>\n",
       "    </tr>\n",
       "    <tr>\n",
       "      <th>2</th>\n",
       "      <td>3</td>\n",
       "      <td>CA-2016-138688</td>\n",
       "      <td>6/12/2016</td>\n",
       "      <td>6/16/2016</td>\n",
       "      <td>Second Class</td>\n",
       "      <td>DV-13045</td>\n",
       "      <td>Darrin Van Huff</td>\n",
       "      <td>Corporate</td>\n",
       "      <td>United States</td>\n",
       "      <td>Los Angeles</td>\n",
       "      <td>...</td>\n",
       "      <td>90036</td>\n",
       "      <td>West</td>\n",
       "      <td>OFF-LA-10000240</td>\n",
       "      <td>Office Supplies</td>\n",
       "      <td>Labels</td>\n",
       "      <td>Self-Adhesive Address Labels for Typewriters b...</td>\n",
       "      <td>14.6200</td>\n",
       "      <td>2</td>\n",
       "      <td>0.00</td>\n",
       "      <td>6.8714</td>\n",
       "    </tr>\n",
       "    <tr>\n",
       "      <th>3</th>\n",
       "      <td>4</td>\n",
       "      <td>US-2015-108966</td>\n",
       "      <td>10/11/2015</td>\n",
       "      <td>10/18/2015</td>\n",
       "      <td>Standard Class</td>\n",
       "      <td>SO-20335</td>\n",
       "      <td>Sean O'Donnell</td>\n",
       "      <td>Consumer</td>\n",
       "      <td>United States</td>\n",
       "      <td>Fort Lauderdale</td>\n",
       "      <td>...</td>\n",
       "      <td>33311</td>\n",
       "      <td>South</td>\n",
       "      <td>FUR-TA-10000577</td>\n",
       "      <td>Furniture</td>\n",
       "      <td>Tables</td>\n",
       "      <td>Bretford CR4500 Series Slim Rectangular Table</td>\n",
       "      <td>957.5775</td>\n",
       "      <td>5</td>\n",
       "      <td>0.45</td>\n",
       "      <td>-383.0310</td>\n",
       "    </tr>\n",
       "    <tr>\n",
       "      <th>4</th>\n",
       "      <td>5</td>\n",
       "      <td>US-2015-108966</td>\n",
       "      <td>10/11/2015</td>\n",
       "      <td>10/18/2015</td>\n",
       "      <td>Standard Class</td>\n",
       "      <td>SO-20335</td>\n",
       "      <td>Sean O'Donnell</td>\n",
       "      <td>Consumer</td>\n",
       "      <td>United States</td>\n",
       "      <td>Fort Lauderdale</td>\n",
       "      <td>...</td>\n",
       "      <td>33311</td>\n",
       "      <td>South</td>\n",
       "      <td>OFF-ST-10000760</td>\n",
       "      <td>Office Supplies</td>\n",
       "      <td>Storage</td>\n",
       "      <td>Eldon Fold 'N Roll Cart System</td>\n",
       "      <td>22.3680</td>\n",
       "      <td>2</td>\n",
       "      <td>0.20</td>\n",
       "      <td>2.5164</td>\n",
       "    </tr>\n",
       "  </tbody>\n",
       "</table>\n",
       "<p>5 rows × 21 columns</p>\n",
       "</div>"
      ]
     },
     "execution_count": 2,
     "metadata": {},
     "output_type": "execute_result"
    }
   ],
   "execution_count": 2
  },
  {
   "metadata": {},
   "cell_type": "markdown",
   "source": "---",
   "id": "5618b78d6a26a9a7"
  },
  {
   "metadata": {},
   "cell_type": "markdown",
   "source": "# Product Performance Insights",
   "id": "513e8b9e3dd8394f"
  },
  {
   "metadata": {},
   "cell_type": "markdown",
   "source": "## All Categories",
   "id": "88149e5058114420"
  },
  {
   "metadata": {
    "ExecuteTime": {
     "end_time": "2025-09-13T18:40:27.455533Z",
     "start_time": "2025-09-13T18:40:27.449925Z"
    }
   },
   "cell_type": "code",
   "source": [
    "products = df['Category'].unique()\n",
    "print(products)"
   ],
   "id": "a845be694fb80c16",
   "outputs": [
    {
     "name": "stdout",
     "output_type": "stream",
     "text": [
      "['Furniture' 'Office Supplies' 'Technology']\n"
     ]
    }
   ],
   "execution_count": 3
  },
  {
   "metadata": {},
   "cell_type": "markdown",
   "source": "## All Sub Categories",
   "id": "9d2fc39e5e096c46"
  },
  {
   "metadata": {
    "ExecuteTime": {
     "end_time": "2025-09-13T18:44:51.150683Z",
     "start_time": "2025-09-13T18:44:51.145612Z"
    }
   },
   "cell_type": "code",
   "source": [
    "SubProducts = df['Sub-Category'].unique()\n",
    "print(SubProducts)"
   ],
   "id": "a756b890086997ea",
   "outputs": [
    {
     "name": "stdout",
     "output_type": "stream",
     "text": [
      "['Bookcases' 'Chairs' 'Labels' 'Tables' 'Storage' 'Furnishings' 'Art'\n",
      " 'Phones' 'Binders' 'Appliances' 'Paper' 'Accessories' 'Envelopes'\n",
      " 'Fasteners' 'Supplies' 'Machines' 'Copiers']\n"
     ]
    }
   ],
   "execution_count": 4
  },
  {
   "metadata": {},
   "cell_type": "markdown",
   "source": "## Number of Sub Categories per Each Category",
   "id": "3cd99785ad6aea49"
  },
  {
   "metadata": {
    "ExecuteTime": {
     "end_time": "2025-09-13T18:48:55.426944Z",
     "start_time": "2025-09-13T18:48:55.419992Z"
    }
   },
   "cell_type": "code",
   "source": [
    "subproducts_counts = df.groupby('Category')['Sub-Category'].nunique().reset_index()\n",
    "subproducts_counts.columns = ['Category', 'Sub-Category Count']\n",
    "subproducts_counts = subproducts_counts.sort_values(by='Sub-Category Count', ascending=False)\n",
    "print(subproducts_counts)"
   ],
   "id": "d71f8a0c18fef81d",
   "outputs": [
    {
     "name": "stdout",
     "output_type": "stream",
     "text": [
      "          Category  Sub-Category Count\n",
      "1  Office Supplies                   9\n",
      "0        Furniture                   4\n",
      "2       Technology                   4\n"
     ]
    }
   ],
   "execution_count": 15
  },
  {
   "metadata": {},
   "cell_type": "markdown",
   "source": "## Total Sales per Each Sub Category",
   "id": "1fb06a705890c061"
  },
  {
   "metadata": {
    "ExecuteTime": {
     "end_time": "2025-09-13T18:52:20.934743Z",
     "start_time": "2025-09-13T18:52:20.924591Z"
    }
   },
   "cell_type": "code",
   "source": [
    "subproducts_count_sales = df.groupby(['Category', 'Sub-Category'])['Sales'].sum().reset_index()\n",
    "subproducts_count_sales.columns = ['Category', 'Sub-Category', 'Total Sales']\n",
    "subproducts_count_sales = subproducts_count_sales.sort_values(by='Total Sales', ascending=False)\n",
    "print(subproducts_count_sales)"
   ],
   "id": "942513de9fb166a4",
   "outputs": [
    {
     "name": "stdout",
     "output_type": "stream",
     "text": [
      "           Category Sub-Category  Total Sales\n",
      "16       Technology       Phones  330007.0540\n",
      "1         Furniture       Chairs  328449.1030\n",
      "11  Office Supplies      Storage  223843.6080\n",
      "3         Furniture       Tables  206965.5320\n",
      "6   Office Supplies      Binders  203412.7330\n",
      "15       Technology     Machines  189238.6310\n",
      "13       Technology  Accessories  167380.3180\n",
      "14       Technology      Copiers  149528.0300\n",
      "0         Furniture    Bookcases  114879.9963\n",
      "4   Office Supplies   Appliances  107532.1610\n",
      "2         Furniture  Furnishings   91705.1640\n",
      "10  Office Supplies        Paper   78479.2060\n",
      "12  Office Supplies     Supplies   46673.5380\n",
      "5   Office Supplies          Art   27118.7920\n",
      "7   Office Supplies    Envelopes   16476.4020\n",
      "9   Office Supplies       Labels   12486.3120\n",
      "8   Office Supplies    Fasteners    3024.2800\n"
     ]
    }
   ],
   "execution_count": 16
  },
  {
   "metadata": {},
   "cell_type": "markdown",
   "source": "## Visualizing Total Sales per Each Sub Category",
   "id": "23cbfbd75371b3e2"
  },
  {
   "metadata": {
    "ExecuteTime": {
     "end_time": "2025-09-13T18:57:23.259187Z",
     "start_time": "2025-09-13T18:57:23.047978Z"
    }
   },
   "cell_type": "code",
   "source": [
    "plt.figure(figsize=(12, 6))\n",
    "sns.barplot(data=subproducts_count_sales, x='Total Sales', y='Sub-Category', hue='Category', dodge=False)\n",
    "plt.title('Total Sales by Sub-Category')\n",
    "plt.xlabel('Total Sales')\n",
    "plt.ylabel('Sub-Category')\n",
    "plt.legend(title='Category')\n",
    "plt.show()"
   ],
   "id": "fcf2fa257890c7ce",
   "outputs": [
    {
     "data": {
      "text/plain": [
       "<Figure size 1200x600 with 1 Axes>"
      ],
      "image/png": "[encoded data removed]"
     },
     "metadata": {},
     "output_type": "display_data"
    }
   ],
   "execution_count": 20
  },
  {
   "metadata": {},
   "cell_type": "markdown",
   "source": "## Total Sales per Each Category",
   "id": "443400117a431515"
  },
  {
   "metadata": {
    "ExecuteTime": {
     "end_time": "2025-09-13T18:54:51.954211Z",
     "start_time": "2025-09-13T18:54:51.947313Z"
    }
   },
   "cell_type": "code",
   "source": [
    "product_category_sales = df.groupby('Category')['Sales'].sum().reset_index()\n",
    "product_category_sales.columns = ['Category', 'Total Sales']\n",
    "product_category_sales = product_category_sales.sort_values(by='Total Sales', ascending=False)\n",
    "print(product_category_sales)"
   ],
   "id": "e49c709f3f6b4708",
   "outputs": [
    {
     "name": "stdout",
     "output_type": "stream",
     "text": [
      "          Category  Total Sales\n",
      "2       Technology  836154.0330\n",
      "0        Furniture  741999.7953\n",
      "1  Office Supplies  719047.0320\n"
     ]
    }
   ],
   "execution_count": 17
  },
  {
   "metadata": {},
   "cell_type": "markdown",
   "source": "## Visualizing Sales Share by Product Category",
   "id": "752944602b909af3"
  },
  {
   "metadata": {
    "ExecuteTime": {
     "end_time": "2025-09-13T18:55:45.184532Z",
     "start_time": "2025-09-13T18:55:45.111490Z"
    }
   },
   "cell_type": "code",
   "source": [
    "plt.figure(figsize=(6, 6))\n",
    "plt.pie(product_category_sales['Total Sales'],\n",
    "        labels=product_category_sales['Category'],\n",
    "        autopct='%1.1f%%',\n",
    "        startangle=90)\n",
    "plt.title('Sales Share by Product Category')\n",
    "plt.show()"
   ],
   "id": "1b17de6323eccacb",
   "outputs": [
    {
     "data": {
      "text/plain": [
       "<Figure size 600x600 with 1 Axes>"
      ],
      "image/png": "[encoded data removed]"
     },
     "metadata": {},
     "output_type": "display_data"
    }
   ],
   "execution_count": 18
  },
  {
   "metadata": {},
   "cell_type": "markdown",
   "source": "---",
   "id": "c2b4e56808582575"
  }
 ],
 "metadata": {
  "kernelspec": {
   "display_name": "Python 3",
   "language": "python",
   "name": "python3"
  },
  "language_info": {
   "codemirror_mode": {
    "name": "ipython",
    "version": 2
   },
   "file_extension": ".py",
   "mimetype": "text/x-python",
   "name": "python",
   "nbconvert_exporter": "python",
   "pygments_lexer": "ipython2",
   "version": "2.7.6"
  }
 },
 "nbformat": 4,
 "nbformat_minor": 5
}
